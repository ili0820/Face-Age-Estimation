{
 "cells": [
  {
   "cell_type": "code",
   "execution_count": 4,
   "metadata": {},
   "outputs": [],
   "source": [
    "import pandas as pd\n",
    "import cv2\n",
    "import os\n"
   ]
  },
  {
   "cell_type": "markdown",
   "metadata": {},
   "source": [
    "[age]_[gender]_[race]_[date&time].jpg\n",
    "<br/>\n",
    "\n",
    "[age] is an integer from 0 to 116, indicating the age<br/><br/>\n",
    "[gender] is either 0 (male) or 1 (female)<br/><br/>\n",
    "[race] is an integer from 0 to 4, denoting White, Black, Asian, Indian, and Others.<br/><br/>\n",
    "[date&time] is in the format of yyyymmddHHMMSSFFF,"
   ]
  },
  {
   "cell_type": "code",
   "execution_count": 24,
   "metadata": {},
   "outputs": [],
   "source": [
    "temp=[]\n",
    "cnt=0\n",
    "for file in os.listdir('/home/hojin/agerec/data'):\n",
    "    age,gender,race,date=file.split(\"_\")\n",
    "    temp.append((age,gender,race,date.rstrip(\".jpg\")))"
   ]
  },
  {
   "cell_type": "code",
   "execution_count": 30,
   "metadata": {},
   "outputs": [],
   "source": [
    "cols=[\"Age\",\"Gender\",\"Race\",\"Time\"]\n",
    "df=pd.DataFrame(temp,columns=cols)"
   ]
  },
  {
   "cell_type": "code",
   "execution_count": 36,
   "metadata": {},
   "outputs": [
    {
     "data": {
      "text/html": [
       "<div>\n",
       "<style scoped>\n",
       "    .dataframe tbody tr th:only-of-type {\n",
       "        vertical-align: middle;\n",
       "    }\n",
       "\n",
       "    .dataframe tbody tr th {\n",
       "        vertical-align: top;\n",
       "    }\n",
       "\n",
       "    .dataframe thead th {\n",
       "        text-align: right;\n",
       "    }\n",
       "</style>\n",
       "<table border=\"1\" class=\"dataframe\">\n",
       "  <thead>\n",
       "    <tr style=\"text-align: right;\">\n",
       "      <th></th>\n",
       "      <th>Age</th>\n",
       "      <th>Gender</th>\n",
       "      <th>Race</th>\n",
       "      <th>Time</th>\n",
       "    </tr>\n",
       "  </thead>\n",
       "  <tbody>\n",
       "    <tr>\n",
       "      <th>0</th>\n",
       "      <td>20</td>\n",
       "      <td>1</td>\n",
       "      <td>0</td>\n",
       "      <td>20170119153410801</td>\n",
       "    </tr>\n",
       "    <tr>\n",
       "      <th>1</th>\n",
       "      <td>39</td>\n",
       "      <td>1</td>\n",
       "      <td>1</td>\n",
       "      <td>20170116174525125</td>\n",
       "    </tr>\n",
       "    <tr>\n",
       "      <th>2</th>\n",
       "      <td>61</td>\n",
       "      <td>1</td>\n",
       "      <td>1</td>\n",
       "      <td>20170109142408075</td>\n",
       "    </tr>\n",
       "    <tr>\n",
       "      <th>3</th>\n",
       "      <td>100</td>\n",
       "      <td>1</td>\n",
       "      <td>0</td>\n",
       "      <td>20170119212053665</td>\n",
       "    </tr>\n",
       "    <tr>\n",
       "      <th>4</th>\n",
       "      <td>10</td>\n",
       "      <td>0</td>\n",
       "      <td>0</td>\n",
       "      <td>20170116201102149</td>\n",
       "    </tr>\n",
       "    <tr>\n",
       "      <th>...</th>\n",
       "      <td>...</td>\n",
       "      <td>...</td>\n",
       "      <td>...</td>\n",
       "      <td>...</td>\n",
       "    </tr>\n",
       "    <tr>\n",
       "      <th>24103</th>\n",
       "      <td>9</td>\n",
       "      <td>1</td>\n",
       "      <td>3</td>\n",
       "      <td>20161220222856346</td>\n",
       "    </tr>\n",
       "    <tr>\n",
       "      <th>24104</th>\n",
       "      <td>9</td>\n",
       "      <td>1</td>\n",
       "      <td>3</td>\n",
       "      <td>20170104222949455</td>\n",
       "    </tr>\n",
       "    <tr>\n",
       "      <th>24105</th>\n",
       "      <td>9</td>\n",
       "      <td>1</td>\n",
       "      <td>4</td>\n",
       "      <td>20170103200637399</td>\n",
       "    </tr>\n",
       "    <tr>\n",
       "      <th>24106</th>\n",
       "      <td>9</td>\n",
       "      <td>1</td>\n",
       "      <td>4</td>\n",
       "      <td>20170103200814791</td>\n",
       "    </tr>\n",
       "    <tr>\n",
       "      <th>24107</th>\n",
       "      <td>9</td>\n",
       "      <td>1</td>\n",
       "      <td>4</td>\n",
       "      <td>20170103213057382</td>\n",
       "    </tr>\n",
       "  </tbody>\n",
       "</table>\n",
       "<p>24108 rows × 4 columns</p>\n",
       "</div>"
      ],
      "text/plain": [
       "       Age Gender Race               Time\n",
       "0       20      1    0  20170119153410801\n",
       "1       39      1    1  20170116174525125\n",
       "2       61      1    1  20170109142408075\n",
       "3      100      1    0  20170119212053665\n",
       "4       10      0    0  20170116201102149\n",
       "...    ...    ...  ...                ...\n",
       "24103    9      1    3  20161220222856346\n",
       "24104    9      1    3  20170104222949455\n",
       "24105    9      1    4  20170103200637399\n",
       "24106    9      1    4  20170103200814791\n",
       "24107    9      1    4  20170103213057382\n",
       "\n",
       "[24108 rows x 4 columns]"
      ]
     },
     "execution_count": 36,
     "metadata": {},
     "output_type": "execute_result"
    }
   ],
   "source": [
    "df"
   ]
  },
  {
   "cell_type": "code",
   "execution_count": 46,
   "metadata": {},
   "outputs": [
    {
     "data": {
      "text/plain": [
       "Age\n",
       "1      [0, 0, 0, 0, 0, 0, 1, 1, 1, 1, 1, 0, 0, 0, 0, ...\n",
       "10     [0, 0, 0, 1, 1, 0, 0, 0, 0, 0, 0, 1, 1, 1, 1, ...\n",
       "100                 [1, 0, 0, 1, 1, 1, 1, 1, 1, 1, 1, 1]\n",
       "101                                               [0, 1]\n",
       "103                                                  [0]\n",
       "                             ...                        \n",
       "92               [0, 0, 0, 1, 1, 1, 1, 1, 1, 1, 1, 1, 1]\n",
       "93                                       [1, 1, 1, 1, 1]\n",
       "95                        [1, 1, 1, 1, 1, 1, 1, 1, 1, 1]\n",
       "96     [1, 1, 1, 1, 1, 1, 1, 1, 1, 1, 1, 1, 1, 1, 1, ...\n",
       "99                           [1, 1, 1, 1, 0, 1, 1, 1, 1]\n",
       "Name: Gender, Length: 104, dtype: object"
      ]
     },
     "execution_count": 46,
     "metadata": {},
     "output_type": "execute_result"
    }
   ],
   "source": [
    "df.groupby('Age')['Gender'].apply(list)"
   ]
  }
 ],
 "metadata": {
  "kernelspec": {
   "display_name": "Python 3.8.13 ('agerec': conda)",
   "language": "python",
   "name": "python3"
  },
  "language_info": {
   "codemirror_mode": {
    "name": "ipython",
    "version": 3
   },
   "file_extension": ".py",
   "mimetype": "text/x-python",
   "name": "python",
   "nbconvert_exporter": "python",
   "pygments_lexer": "ipython3",
   "version": "3.8.13"
  },
  "orig_nbformat": 4,
  "vscode": {
   "interpreter": {
    "hash": "3b9e6dea67a2e9e4cae96faa734744e184678c29f3748a44a9d236e3ed95b0e9"
   }
  }
 },
 "nbformat": 4,
 "nbformat_minor": 2
}
